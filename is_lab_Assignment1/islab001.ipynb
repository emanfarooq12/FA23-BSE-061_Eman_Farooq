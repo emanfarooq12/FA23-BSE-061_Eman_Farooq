{
  "nbformat": 4,
  "nbformat_minor": 0,
  "metadata": {
    "colab": {
      "provenance": []
    },
    "kernelspec": {
      "name": "python3",
      "display_name": "Python 3"
    },
    "language_info": {
      "name": "python"
    }
  },
  "cells": [
    {
      "cell_type": "code",
      "execution_count": 1,
      "metadata": {
        "colab": {
          "base_uri": "https://localhost:8080/"
        },
        "id": "6Dwlyr4HgicR",
        "outputId": "667562f3-13b9-4907-884c-c27ea27da379"
      },
      "outputs": [
        {
          "output_type": "stream",
          "name": "stdout",
          "text": [
            "Enter numbers for first list (space separated): 12\n",
            "Enter numbers for second list (space separated): 23\n",
            "Sorted merged list: [12, 23]\n"
          ]
        }
      ],
      "source": [
        "list1 = list(map(int, input(\"Enter numbers for first list: \").split()))\n",
        "list2 = list(map(int, input(\"Enter numbers for second list: \").split()))\n",
        "merged_list = list1 + list2\n",
        "merged_list.sort()\n",
        "print(\"Sorted merged list:\", merged_list)"
      ]
    },
    {
      "cell_type": "code",
      "source": [
        "list1 = list(map(int, input(\"Enter numbers for first list (space separated): \").split()))\n",
        "list2 = list(map(int, input(\"Enter numbers for second list (space separated): \").split()))\n",
        "merged_list = list1 + list2\n",
        "print(\"Smallest element:\", min(merged_list))\n",
        "print(\"Largest element:\", max(merged_list))"
      ],
      "metadata": {
        "colab": {
          "base_uri": "https://localhost:8080/"
        },
        "id": "TSCpOAHfhCOM",
        "outputId": "393b511a-c71b-4357-a521-ca2c4f1653c8"
      },
      "execution_count": 2,
      "outputs": [
        {
          "output_type": "stream",
          "name": "stdout",
          "text": [
            "Enter numbers for first list (space separated): 23\n",
            "Enter numbers for second list (space separated): 55\n",
            "Smallest element: 23\n",
            "Largest element: 55\n"
          ]
        }
      ]
    },
    {
      "cell_type": "code",
      "source": [
        "birthdays = {\n",
        "    \"Albert Einstein\": \"03/14/1879\",\n",
        "    \"Benjamin Franklin\": \"01/17/1706\",\n",
        "    \"Ada Lovelace\": \"12/10/1815\"\n",
        "}\n",
        "print(\"Welcome to the birthday dictionary. We know the birthdays of:\")\n",
        "for name in birthdays:\n",
        "    print(name)\n",
        "name = input(\"Who's birthday do you want to look up? \")\n",
        "if name in birthdays:\n",
        "    print(f\"{name}'s birthday is {birthdays[name]}.\")\n",
        "else:\n",
        "    print(\"Sorry, we don't have that birthday.\")"
      ],
      "metadata": {
        "colab": {
          "base_uri": "https://localhost:8080/"
        },
        "id": "v9oKMX0dhPWg",
        "outputId": "2e7cabef-2668-488d-8298-5854ae7061ff"
      },
      "execution_count": 3,
      "outputs": [
        {
          "output_type": "stream",
          "name": "stdout",
          "text": [
            "Welcome to the birthday dictionary. We know the birthdays of:\n",
            "Albert Einstein\n",
            "Benjamin Franklin\n",
            "Ada Lovelace\n",
            "Who's birthday do you want to look up? ada\n",
            "Sorry, we don't have that birthday.\n"
          ]
        }
      ]
    },
    {
      "cell_type": "code",
      "source": [
        "sample_dict = {\n",
        "    \"name\": \"Kelly\",\n",
        "    \"age\": 25,\n",
        "    \"salary\": 8000,\n",
        "    \"city\": \"New york\"\n",
        "}\n",
        "keys = [\"name\", \"salary\"]\n",
        "new_dict = {key: sample_dict[key] for key in keys}\n",
        "print(new_dict)"
      ],
      "metadata": {
        "colab": {
          "base_uri": "https://localhost:8080/"
        },
        "id": "G7vVT0ImhXLz",
        "outputId": "ae876d82-cb93-4041-a0b8-09b341c24bdf"
      },
      "execution_count": 4,
      "outputs": [
        {
          "output_type": "stream",
          "name": "stdout",
          "text": [
            "{'name': 'Kelly', 'salary': 8000}\n"
          ]
        }
      ]
    }
  ]
}